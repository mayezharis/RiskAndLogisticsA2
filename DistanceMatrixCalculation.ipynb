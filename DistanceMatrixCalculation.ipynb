{
 "cells": [
  {
   "cell_type": "code",
   "execution_count": 1,
   "metadata": {},
   "outputs": [],
   "source": [
    "import re\n",
    "import numpy as np\n",
    "import heapq\n",
    "import pandas as pd"
   ]
  },
  {
   "cell_type": "code",
   "execution_count": 2,
   "metadata": {},
   "outputs": [],
   "source": [
    "def read_file(filename):\n",
    "    with open(filename, 'r') as file:\n",
    "        content = file.read()  # Open the file in read mode\n",
    "\n",
    "    data = {}  # Initialize data as an empty dictionary\n",
    "\n",
    "    # Each file has number of inputs under which data is stored as a matrix\n",
    "    numerical_data = re.findall(r'\\[([\\d\\s.]+)\\]', content)  # Extract values following each header as numerical values and remove '\\t's and '\\n's\n",
    "\n",
    "    sections = ['Orders', 'Allocations', 'DistanceShelfShelf', 'DistancePackagingShelf', 'FullDistanceMatrixMetres']\n",
    "\n",
    "    for i, section in enumerate(sections):\n",
    "        data[section] = []\n",
    "        lines = numerical_data[i].strip().split('\\n')\n",
    "        for line in lines:\n",
    "            values = line.strip().split()  # Split using spaces\n",
    "            data[section].append([int(val) for val in values])  # Assuming all values are integers\n",
    "\n",
    "    return data"
   ]
  },
  {
   "cell_type": "code",
   "execution_count": 3,
   "metadata": {},
   "outputs": [],
   "source": [
    "filename = r\"Xpress Data Files/Data_Xpress_FullDist_Metres.txt\"\n",
    "data = read_file(filename)\n",
    "\n",
    "# Extracting data into arrays\n",
    "Orders = data.get('Orders')\n",
    "Allocations = np.asarray(data.get('Allocations')[0])\n",
    "DistanceShelfShelf = np.asarray(data.get('DistanceShelfShelf'))\n",
    "FullDistanceMatrix = np.asarray(data.get('FullDistanceMatrixMetres'))\n",
    "\n",
    "NbShelves = 96\n",
    "Shelves = range(1, NbShelves + 1)\n",
    "\n",
    "FullDistanceMatrix = np.roll(FullDistanceMatrix, shift = 1, axis = 1)\n",
    "FullDistanceMatrix = np.roll(FullDistanceMatrix, shift = 1, axis = 0)"
   ]
  },
  {
   "cell_type": "code",
   "execution_count": 71,
   "metadata": {},
   "outputs": [],
   "source": [
    "def divide_aisles(nbMidAisles):\n",
    "    if nbMidAisles == 0:\n",
    "        return [(5,29)]\n",
    "    elif nbMidAisles == 1:\n",
    "        return [(4,16), (17,29)]\n",
    "    elif nbMidAisles == 2:\n",
    "        return [(3,11), (12,20), (21,29)]\n",
    "    elif nbMidAisles == 3:\n",
    "        return [(2,8), (9,15), (16,22), (23,29)]\n",
    "    elif nbMidAisles == 4:\n",
    "        return [(1,5), (6,11), (12,17), (18,23), (24,29)]\n",
    "\n",
    "def construct_warehouse_layout(nbMidAisles):\n",
    "    # Define the filled squares\n",
    "    rows = 30\n",
    "    cols = 13\n",
    "    filled_squares = []\n",
    "\n",
    "    row_ranges = divide_aisles(nbMidAisles)\n",
    "    columns = [1,3,4,6]\n",
    "    for start, end in row_ranges:\n",
    "        for row in range(start, end):\n",
    "            for col in columns:\n",
    "                filled_squares.append((row, col))\n",
    "\n",
    "    # Initialize the grid as zeros\n",
    "    grid = np.zeros((rows, cols), dtype=int)\n",
    "    # Mark filled squares as 1\n",
    "    for row,col in filled_squares:\n",
    "        grid[row, col] = 1\n",
    "\n",
    "\n",
    "    adjacent_shelves = []\n",
    "    for i in range(len(grid)):\n",
    "        # Iterate over each column, skipping the first and last columns\n",
    "        for j in range(1, len(grid[i]) - 1):\n",
    "            # Check if current element is '0' and both its neighbors are '1'\n",
    "            if grid[i][j] == 0 and grid[i][j - 1] == 1 and grid[i][j + 1] == 1:\n",
    "                adjacent_shelves.append([i, j])  # Append indices to the list\n",
    "    return grid, adjacent_shelves"
   ]
  },
  {
   "cell_type": "code",
   "execution_count": 72,
   "metadata": {},
   "outputs": [],
   "source": [
    "warehouse_layout, adjacent_shelves = construct_warehouse_layout(1)"
   ]
  },
  {
   "cell_type": "markdown",
   "metadata": {},
   "source": [
    "# $\\mathrm{A}^*$ Algorithm"
   ]
  },
  {
   "cell_type": "code",
   "execution_count": 37,
   "metadata": {},
   "outputs": [],
   "source": [
    "class Shelf:\n",
    "    def __init__(self, x, y, parent=None):\n",
    "        self.x = x\n",
    "        self.y = y\n",
    "        self.parent = parent\n",
    "        self.g = 0\n",
    "        self.h = 0\n",
    "\n",
    "    def __lt__(self, other):\n",
    "        return (self.g + self.h) < (other.g + other.h)\n",
    "\n",
    "def get_neighbours(shelf, warehouse_grid):\n",
    "    neighbours = []\n",
    "    moves = [(1, 0), (-1, 0), (0, 1), (0, -1)]\n",
    "    for dx, dy in moves:\n",
    "        x, y = shelf.x + dx, shelf.y + dy\n",
    "        if 0 <= x < len(warehouse_grid) and 0 <= y < len(warehouse_grid[0]) and warehouse_grid[x][y] == 0:\n",
    "            neighbours.append(Shelf(x, y, shelf))\n",
    "    return neighbours\n",
    "\n",
    "def manhattan_distance(shelf1, shelf2):\n",
    "    return abs(shelf1.x - shelf2.x) + abs(shelf1.y - shelf2.y)\n",
    "\n",
    "def a_star(start, destination, warehouse_grid):\n",
    "    open_list = []\n",
    "    closed_set = set()\n",
    "    heapq.heappush(open_list, start)\n",
    "\n",
    "    while open_list:\n",
    "        current_shelf = heapq.heappop(open_list)\n",
    "\n",
    "        if (current_shelf.x, current_shelf.y) == (destination.x, destination.y):\n",
    "            path = []\n",
    "            while current_shelf:\n",
    "                path.append((current_shelf.x, current_shelf.y))\n",
    "                current_shelf = current_shelf.parent\n",
    "            return path[::-1]\n",
    "\n",
    "        closed_set.add((current_shelf.x, current_shelf.y))\n",
    "\n",
    "        for neighbour in get_neighbours(current_shelf, warehouse_grid):\n",
    "            if (neighbour.x, neighbour.y) in closed_set:\n",
    "                continue\n",
    "            neighbour.g = current_shelf.g + 1\n",
    "            neighbour.h = manhattan_distance(neighbour, destination)\n",
    "            heapq.heappush(open_list, neighbour)\n",
    "\n",
    "    return None\n",
    "\n",
    "def calculate_path_and_distance(start, end, warehouse_grid):\n",
    "    path = a_star(Shelf(*start), Shelf(*end), warehouse_grid)\n",
    "    if path:\n",
    "        total_distance = sum(manhattan_distance(Shelf(*path[i]), Shelf(*path[i+1])) for i in range(len(path)-1))\n",
    "        return path, total_distance\n",
    "    else:\n",
    "        return None, None"
   ]
  },
  {
   "cell_type": "code",
   "execution_count": 50,
   "metadata": {},
   "outputs": [],
   "source": [
    "def construct_distance_matrix(warehouse_layout, shelf_positions):\n",
    "\n",
    "    shelf_positions = sorted(adjacent_shelves, key = lambda shelf: (shelf[1], -shelf[0]))\n",
    "\n",
    "    distance_matrix = np.zeros((len(adjacent_shelves), len(adjacent_shelves)), dtype = int)\n",
    "    paths = {}\n",
    "    for i, start_point in enumerate(shelf_positions):\n",
    "        for j, end_point in enumerate(shelf_positions):\n",
    "            path, total_distance = calculate_path_and_distance(start_point, end_point, warehouse_layout)\n",
    "            distance_matrix[i,j] = total_distance\n",
    "            paths[f\"{start_point} to {end_point}\"] = path\n",
    "            # if path:\n",
    "            #     print(f\"Path from {start_point} to {end_point}:\", path, total_distance)\n",
    "            #     # print(\"Total Manhattan Distance:\", total_distance)\n",
    "            # else:\n",
    "            #     print(\"No path found.\")\n",
    "            \n",
    "    quad_quad_mat = np.zeros((96,96), dtype = int)\n",
    "\n",
    "    TL_quad = distance_matrix[:24, :24]\n",
    "    TR_quad = distance_matrix[:24, -24:]\n",
    "    BL_quad = distance_matrix[-24:, :24]\n",
    "    BR_quad = distance_matrix[-24:, -24:]\n",
    "\n",
    "    quad_quad_mat[:24, :24] = TL_quad\n",
    "    quad_quad_mat[:24, 24:48] = TL_quad\n",
    "    quad_quad_mat[24:48, :24] = TL_quad\n",
    "    quad_quad_mat[24:48, 24:48] = TL_quad\n",
    "\n",
    "    quad_quad_mat[:24, 48:72] = TR_quad\n",
    "    quad_quad_mat[:24, 72:] = TR_quad\n",
    "    quad_quad_mat[24:48, 48:72] = TR_quad\n",
    "    quad_quad_mat[24:48, 72:] = TR_quad\n",
    "\n",
    "    quad_quad_mat[48:72, :24] = BL_quad\n",
    "    quad_quad_mat[48:72, 24:48] = BL_quad\n",
    "    quad_quad_mat[72:, :24] = BL_quad\n",
    "    quad_quad_mat[72:, 24:48] = BL_quad\n",
    "\n",
    "    quad_quad_mat[48:72, 48:72] = BR_quad\n",
    "    quad_quad_mat[48:72, 72:] = BR_quad\n",
    "    quad_quad_mat[72:, 48:72] = BR_quad\n",
    "    quad_quad_mat[72:, 72:] = BR_quad\n",
    "\n",
    "    return quad_quad_mat, paths"
   ]
  },
  {
   "cell_type": "code",
   "execution_count": 62,
   "metadata": {},
   "outputs": [],
   "source": [
    "def construct_door_shelf_distances(warehouse_layout, shelf_positions, door_position = [29, 3]):\n",
    "    shelf_positions = sorted(adjacent_shelves, key = lambda shelf: (shelf[1], -shelf[0]))\n",
    "    init_door_dist = np.zeros(len(shelf_positions) + 1, dtype = int)\n",
    "    paths = {}\n",
    "\n",
    "    for i, shelf in enumerate(shelf_positions):\n",
    "        path, total_distance = calculate_path_and_distance(door_position, shelf, warehouse_layout)\n",
    "        init_door_dist[i+1] = total_distance\n",
    "        paths[f\"Door to {shelf}\"] = path\n",
    "        # if path:\n",
    "        #     print(f\"Path from door to {shelf}:\", path, total_distance)\n",
    "        # else:\n",
    "        #     print(\"No path found.\")\n",
    "    \n",
    "    first_half = init_door_dist[1:25]\n",
    "    second_half = init_door_dist[25:]\n",
    "\n",
    "    door_shelf_dist = np.zeros(len(shelf_positions*2) + 1, dtype = int)\n",
    "    door_shelf_dist[1:25] = first_half\n",
    "    door_shelf_dist[25:49] = first_half\n",
    "    door_shelf_dist[49:73] = second_half\n",
    "    door_shelf_dist[73:] = second_half\n",
    "\n",
    "    return door_shelf_dist, paths"
   ]
  },
  {
   "cell_type": "code",
   "execution_count": 56,
   "metadata": {},
   "outputs": [
    {
     "data": {
      "text/plain": [
       "array([[ 0,  1,  2, ..., 25, 26, 27],\n",
       "       [ 1,  0,  1, ..., 24, 25, 26],\n",
       "       [ 2,  1,  0, ..., 23, 24, 25],\n",
       "       ...,\n",
       "       [25, 24, 23, ...,  0,  1,  2],\n",
       "       [26, 25, 24, ...,  1,  0,  1],\n",
       "       [27, 26, 25, ...,  2,  1,  0]])"
      ]
     },
     "execution_count": 56,
     "metadata": {},
     "output_type": "execute_result"
    }
   ],
   "source": [
    "construct_distance_matrix(warehouse_layout=warehouse_layout, shelf_positions=adjacent_shelves)[0]"
   ]
  },
  {
   "cell_type": "code",
   "execution_count": 65,
   "metadata": {},
   "outputs": [
    {
     "data": {
      "text/plain": [
       "array([ 0,  2,  3,  4,  5,  6,  7,  8,  9, 10, 11, 12, 13, 15, 16, 17, 18,\n",
       "       19, 20, 21, 22, 23, 24, 25, 26,  2,  3,  4,  5,  6,  7,  8,  9, 10,\n",
       "       11, 12, 13, 15, 16, 17, 18, 19, 20, 21, 22, 23, 24, 25, 26,  3,  4,\n",
       "        5,  6,  7,  8,  9, 10, 11, 12, 13, 14, 16, 17, 18, 19, 20, 21, 22,\n",
       "       23, 24, 25, 26, 27,  3,  4,  5,  6,  7,  8,  9, 10, 11, 12, 13, 14,\n",
       "       16, 17, 18, 19, 20, 21, 22, 23, 24, 25, 26, 27])"
      ]
     },
     "execution_count": 65,
     "metadata": {},
     "output_type": "execute_result"
    }
   ],
   "source": [
    "construct_door_shelf_distances(warehouse_layout=warehouse_layout, shelf_positions=adjacent_shelves)[0]"
   ]
  }
 ],
 "metadata": {
  "kernelspec": {
   "display_name": "Python 3",
   "language": "python",
   "name": "python3"
  },
  "language_info": {
   "codemirror_mode": {
    "name": "ipython",
    "version": 3
   },
   "file_extension": ".py",
   "mimetype": "text/x-python",
   "name": "python",
   "nbconvert_exporter": "python",
   "pygments_lexer": "ipython3",
   "version": "3.11.8"
  }
 },
 "nbformat": 4,
 "nbformat_minor": 2
}
