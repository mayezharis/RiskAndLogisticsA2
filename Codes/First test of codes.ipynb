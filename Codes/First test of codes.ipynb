{
 "cells": [
  {
   "cell_type": "code",
   "execution_count": 1,
   "metadata": {},
   "outputs": [],
   "source": [
    "import csv\n",
    "import numpy as np\n",
    "import itertools"
   ]
  },
  {
   "cell_type": "code",
   "execution_count": 2,
   "metadata": {},
   "outputs": [
    {
     "data": {
      "text/plain": [
       "[45,\n",
       " 79,\n",
       " 39,\n",
       " 68,\n",
       " 73,\n",
       " 53,\n",
       " 19,\n",
       " 44,\n",
       " 16,\n",
       " 71,\n",
       " 27,\n",
       " 41,\n",
       " 2,\n",
       " 46,\n",
       " 60,\n",
       " 67,\n",
       " 56,\n",
       " 83,\n",
       " 80,\n",
       " 57,\n",
       " 69,\n",
       " 55,\n",
       " 75,\n",
       " 34,\n",
       " 89,\n",
       " 12,\n",
       " 81,\n",
       " 62,\n",
       " 23,\n",
       " 26,\n",
       " 24,\n",
       " 86,\n",
       " 3,\n",
       " 17,\n",
       " 90,\n",
       " 58,\n",
       " 51,\n",
       " 25,\n",
       " 85,\n",
       " 65,\n",
       " 31,\n",
       " 11,\n",
       " 87,\n",
       " 10,\n",
       " 13,\n",
       " 70,\n",
       " 35,\n",
       " 32,\n",
       " 47,\n",
       " 6,\n",
       " 30,\n",
       " 21,\n",
       " 43,\n",
       " 64,\n",
       " 66,\n",
       " 78,\n",
       " 76,\n",
       " 61,\n",
       " 8,\n",
       " 72,\n",
       " 22,\n",
       " 18,\n",
       " 82,\n",
       " 14,\n",
       " 28,\n",
       " 4,\n",
       " 5,\n",
       " 84,\n",
       " 54,\n",
       " 48,\n",
       " 63,\n",
       " 29,\n",
       " 49,\n",
       " 74,\n",
       " 37,\n",
       " 36,\n",
       " 20,\n",
       " 38,\n",
       " 50,\n",
       " 7,\n",
       " 88,\n",
       " 9,\n",
       " 40,\n",
       " 77,\n",
       " 15,\n",
       " 1,\n",
       " 33,\n",
       " 59,\n",
       " 42,\n",
       " 52,\n",
       " 0,\n",
       " 0,\n",
       " 0,\n",
       " 0,\n",
       " 0,\n",
       " 0]"
      ]
     },
     "execution_count": 2,
     "metadata": {},
     "output_type": "execute_result"
    }
   ],
   "source": [
    "file = open(\"C:\\\\Users\\\\Simeon Horner\\\\Documents\\\\GitHub\\\\RiskAndLogisticsA2\\\\Data Files\\\\CSV versions\\\\CurrentAllocation.csv\", encoding=\"utf-8\")\n",
    "csvreader = csv.reader(file)\n",
    "\n",
    "\n",
    "Shelves = []\n",
    "\n",
    "for row in csvreader:\n",
    "    Shelves.append(int(row[1]))\n",
    "\n",
    "Shelves"
   ]
  },
  {
   "cell_type": "code",
   "execution_count": 16,
   "metadata": {},
   "outputs": [],
   "source": [
    "file = open(\"C:\\\\Users\\\\Simeon Horner\\\\Documents\\\\GitHub\\\\RiskAndLogisticsA2\\\\Data Files\\\\CSV versions\\\\OrderList.csv\", encoding=\"utf-8\")\n",
    "csvreader = csv.reader(file)\n",
    "\n",
    "Orders = []\n",
    "\n",
    "for row in csvreader:\n",
    "    Orders.append([int(x) for x in row[1:]])\n",
    "\n",
    "temp_orders = Orders[:100]\n",
    "\n"
   ]
  },
  {
   "cell_type": "code",
   "execution_count": 4,
   "metadata": {},
   "outputs": [],
   "source": [
    "Distances = np.genfromtxt('C:\\\\Users\\\\Simeon Horner\\\\Documents\\\\GitHub\\\\RiskAndLogisticsA2\\\\Data Files\\\\CSV versions\\\\DistanceMatrix_meters.csv', delimiter=',', skip_header=0, dtype='i')\n",
    "Distances[0, 0] = 0\n",
    "\n",
    "new_row = np.full((1, Distances.shape[1]), 10000000000)\n",
    "new_column = np.full((Distances.shape[0]+1, 1), 10000000000)\n",
    "\n",
    "Distances = np.hstack((np.vstack((Distances, new_row)), new_column))"
   ]
  },
  {
   "cell_type": "code",
   "execution_count": 10,
   "metadata": {},
   "outputs": [],
   "source": [
    "def DummyMinDist(order, shelves, dist):\n",
    "    shortest_path = None\n",
    "    shortest_dist = 0\n",
    "\n",
    "    order = [num for num in order if num != 0]\n",
    "\n",
    "    totaldist = 1000000000000\n",
    "\n",
    "    permutations = itertools.permutations(order)\n",
    "\n",
    "    for perm in permutations:\n",
    "\n",
    "        shelf_nums = []\n",
    "        for value in perm:    #Adds the shelf number of the item, adds to shelf 97 (dummy shelf) if product is not in list\n",
    "            try:\n",
    "                index = shelves.index(value)\n",
    "                shelf_nums.append(index)\n",
    "            except ValueError:\n",
    "                shelf_nums.append(97)\n",
    "\n",
    "        tempdist = dist[96, shelf_nums[0]]\n",
    "\n",
    "\n",
    "        \n",
    "\n",
    "        if len(perm)>1:\n",
    "            tempdist += dist[shelf_nums[0], shelf_nums[1]]\n",
    "        if len(perm)>2:\n",
    "            tempdist += dist[shelf_nums[1], shelf_nums[2]]\n",
    "        if len(perm)>3:\n",
    "            tempdist += dist[shelf_nums[2], shelf_nums[3]]\n",
    "        if len(perm)>4:\n",
    "            tempdist += dist[shelf_nums[3], shelf_nums[4]] \n",
    "\n",
    "        tempdist += dist[shelf_nums[-1], 96]\n",
    "\n",
    "        if tempdist < totaldist:\n",
    "            totaldist = tempdist\n",
    "        \n",
    "\n",
    "\n",
    "    return totaldist\n",
    "\n",
    "def MinDist(order, shelves, dist):\n",
    "    totaldist = 1000000000000\n",
    "\n",
    "    #work some magic\n",
    "\n",
    "    return totaldist"
   ]
  },
  {
   "cell_type": "code",
   "execution_count": 6,
   "metadata": {},
   "outputs": [],
   "source": [
    "def ObjectiveFunction(orders_list, shelves, distances, dummy = True):\n",
    "    totaldist = 0\n",
    "\n",
    "    for order in orders_list:\n",
    "        if dummy == True:\n",
    "            totaldist += DummyMinDist(order, shelves, distances)\n",
    "        else:\n",
    "            totaldist += MinDist(order, shelves, distances)\n",
    "\n",
    "    return totaldist\n",
    "\n",
    "\n",
    "def ChangeIn_ObjectiveFunction(orders_list, old_shelves, new_shelves, distances):\n",
    "    prev_val = ObjectiveFunction(orders_list, old_shelves, distances)\n",
    "    new_val = ObjectiveFunction(orders_list, new_shelves, distances)\n",
    "    return prev_val-new_val\n",
    "    "
   ]
  },
  {
   "cell_type": "code",
   "execution_count": 7,
   "metadata": {},
   "outputs": [
    {
     "name": "stdout",
     "output_type": "stream",
     "text": [
      "135\n",
      "2658\n"
     ]
    }
   ],
   "source": [
    "print(DummyMinDist(Orders[2], Shelves, Distances))\n",
    "print(ObjectiveFunction(temp_orders, Shelves, Distances))"
   ]
  },
  {
   "cell_type": "code",
   "execution_count": 8,
   "metadata": {},
   "outputs": [],
   "source": [
    "def Greedy_Construction_Heuristic(orders, distances):\n",
    "    temp_P = [x for x in range(1, 91)]\n",
    "    temp_S = [x for x in range(0, 96)]\n",
    "\n",
    "    shelves = [0]*96\n",
    "\n",
    "    while len(temp_S)>0:\n",
    "        most_reduced = np.inf\n",
    "        best_p = None\n",
    "        best_s = None\n",
    "\n",
    "        baseline = ObjectiveFunction(orders, shelves, distances)\n",
    "\n",
    "        for p in temp_P:\n",
    "            print(p)\n",
    "            for s in temp_S:\n",
    "                temp_shelves = shelves\n",
    "                temp_shelves[s] = p\n",
    "\n",
    "                reduction = baseline - ObjectiveFunction(orders, temp_shelves, distances)\n",
    "                if reduction < most_reduced:\n",
    "                    best_p = p\n",
    "                    best_s = s\n",
    "                    most_reduced = reduction\n",
    "\n",
    "        shelves[best_s] = best_p\n",
    "\n",
    "        temp_P.remove(best_p)\n",
    "        temp_S.remove(best_s)\n",
    "\n",
    "        print(f\"Assigned product {best_p} to shelf {best_s}\" )\n",
    "        print(f\"This reduced the total OF by {most_reduced}\")\n",
    "    \n",
    "    return shelves\n",
    "\n",
    "\n",
    "        "
   ]
  },
  {
   "cell_type": "code",
   "execution_count": 21,
   "metadata": {},
   "outputs": [
    {
     "name": "stdout",
     "output_type": "stream",
     "text": [
      "1\n",
      "2\n",
      "3\n",
      "4\n",
      "5\n",
      "6\n",
      "7\n"
     ]
    },
    {
     "ename": "",
     "evalue": "",
     "output_type": "error",
     "traceback": [
      "\u001b[1;31mThe Kernel crashed while executing code in the current cell or a previous cell. \n",
      "\u001b[1;31mPlease review the code in the cell(s) to identify a possible cause of the failure. \n",
      "\u001b[1;31mClick <a href='https://aka.ms/vscodeJupyterKernelCrash'>here</a> for more info. \n",
      "\u001b[1;31mView Jupyter <a href='command:jupyter.viewOutput'>log</a> for further details."
     ]
    }
   ],
   "source": [
    "Greedy_Construction_Heuristic(temp_orders, Distances)"
   ]
  },
  {
   "cell_type": "code",
   "execution_count": 20,
   "metadata": {},
   "outputs": [
    {
     "name": "stdout",
     "output_type": "stream",
     "text": [
      "96\n",
      "4340000000000\n",
      "4170000000174\n"
     ]
    }
   ],
   "source": [
    "shelves = [0]*96    \n",
    "print(len(shelves))\n",
    "\n",
    "print(ObjectiveFunction(temp_orders, shelves, Distances))\n",
    "\n",
    "\n",
    "shelves[0] = 1\n",
    "shelves[1] = 2\n",
    "shelves[3] = 4\n",
    "print(ObjectiveFunction(temp_orders, shelves, Distances))\n"
   ]
  }
 ],
 "metadata": {
  "kernelspec": {
   "display_name": "Python 3",
   "language": "python",
   "name": "python3"
  },
  "language_info": {
   "codemirror_mode": {
    "name": "ipython",
    "version": 3
   },
   "file_extension": ".py",
   "mimetype": "text/x-python",
   "name": "python",
   "nbconvert_exporter": "python",
   "pygments_lexer": "ipython3",
   "version": "3.12.1"
  }
 },
 "nbformat": 4,
 "nbformat_minor": 2
}
