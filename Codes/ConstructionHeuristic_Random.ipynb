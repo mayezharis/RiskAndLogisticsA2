{
 "cells": [
  {
   "cell_type": "code",
   "execution_count": 8,
   "metadata": {},
   "outputs": [],
   "source": [
    "import csv\n",
    "import numpy as np\n",
    "from collections import Counter\n",
    "import random"
   ]
  },
  {
   "cell_type": "code",
   "execution_count": 2,
   "metadata": {},
   "outputs": [],
   "source": [
    "file = open(\"C:\\\\Users\\\\Simeon Horner\\\\Documents\\\\GitHub\\\\RiskAndLogisticsA2\\\\Data Files\\\\CSV versions\\\\OrderList.csv\", encoding=\"utf-8\")\n",
    "csvreader = csv.reader(file)\n",
    "\n",
    "Orders = []\n",
    "\n",
    "for row in csvreader:\n",
    "    Orders.append([int(x) for x in row[1:]])\n",
    "\n",
    "Distances = np.genfromtxt('C:\\\\Users\\\\Simeon Horner\\\\Documents\\\\GitHub\\\\RiskAndLogisticsA2\\\\Data Files\\\\CSV versions\\\\DistanceMatrix_meters.csv', delimiter=',', skip_header=0, dtype='i')\n",
    "Distances[0, 0] = 0"
   ]
  },
  {
   "cell_type": "code",
   "execution_count": 63,
   "metadata": {},
   "outputs": [],
   "source": [
    "def ConstructionHeuristic_random():\n",
    "    newShelves = [0]*96\n",
    "    currShelf = 0\n",
    "\n",
    "    tempProducts = [x for x in range(1, 91)]\n",
    "\n",
    "    while len(tempProducts) != 0:\n",
    "        random_prod = random.choice(tempProducts)\n",
    "        tempProducts.remove(random_prod)\n",
    "        newShelves[currShelf] = random_prod\n",
    "        currShelf += 1\n",
    "\n",
    "    # if len(tempProducts) == 0:\n",
    "    #     tempProducts = [x for x in range(1, 91)]\n",
    "\n",
    "    return newShelves\n",
    "\n",
    "\n"
   ]
  },
  {
   "cell_type": "code",
   "execution_count": 75,
   "metadata": {},
   "outputs": [
    {
     "name": "stdout",
     "output_type": "stream",
     "text": [
      "[64, 69, 40, 20, 14, 48, 79, 38, 11, 39, 51, 34, 50, 61, 13, 24, 56, 83, 81, 16, 47, 89, 43, 52, 17, 12, 75, 63, 77, 8, 88, 1, 62, 19, 7, 82, 85, 42, 68, 54, 31, 36, 25, 60, 5, 70, 30, 23, 41, 3, 76, 44, 86, 21, 15, 35, 27, 9, 67, 32, 66, 37, 49, 58, 4, 80, 28, 18, 84, 71, 55, 2, 78, 46, 73, 33, 59, 45, 90, 6, 26, 22, 72, 87, 74, 10, 29, 53, 57, 65, 0, 0, 0, 0, 0, 0]\n"
     ]
    }
   ],
   "source": [
    "Shelves = ConstructionHeuristic_random()\n",
    "\n",
    "print(Shelves)"
   ]
  }
 ],
 "metadata": {
  "kernelspec": {
   "display_name": "Python 3",
   "language": "python",
   "name": "python3"
  },
  "language_info": {
   "codemirror_mode": {
    "name": "ipython",
    "version": 3
   },
   "file_extension": ".py",
   "mimetype": "text/x-python",
   "name": "python",
   "nbconvert_exporter": "python",
   "pygments_lexer": "ipython3",
   "version": "3.12.1"
  }
 },
 "nbformat": 4,
 "nbformat_minor": 2
}
