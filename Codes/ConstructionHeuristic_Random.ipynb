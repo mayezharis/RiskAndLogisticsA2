{
 "cells": [
  {
   "cell_type": "code",
   "execution_count": 4,
   "metadata": {},
   "outputs": [],
   "source": [
    "import csv\n",
    "import numpy as np\n",
    "from collections import Counter\n",
    "import random"
   ]
  },
  {
   "cell_type": "code",
   "execution_count": 5,
   "metadata": {},
   "outputs": [],
   "source": [
    "file = open(\"C:\\\\Users\\\\Simeon Horner\\\\Documents\\\\GitHub\\\\RiskAndLogisticsA2\\\\Data Files\\\\CSV versions\\\\OrderList.csv\", encoding=\"utf-8\")\n",
    "csvreader = csv.reader(file)\n",
    "\n",
    "Orders = []\n",
    "\n",
    "for row in csvreader:\n",
    "    Orders.append([int(x) for x in row[1:]])\n",
    "\n",
    "Distances = np.genfromtxt('C:\\\\Users\\\\Simeon Horner\\\\Documents\\\\GitHub\\\\RiskAndLogisticsA2\\\\Data Files\\\\CSV versions\\\\DistanceMatrix_meters.csv', delimiter=',', skip_header=0, dtype='i')\n",
    "Distances[0, 0] = 0"
   ]
  },
  {
   "cell_type": "code",
   "execution_count": 13,
   "metadata": {},
   "outputs": [],
   "source": [
    "def ConstructionHeuristic_random():\n",
    "    newShelves = [0]*96\n",
    "    currShelf = 0\n",
    "\n",
    "    tempProducts = [x for x in range(1, 91)]\n",
    "\n",
    "    for i in range(len(newShelves)):\n",
    "        random_prod = random.choice(tempProducts)\n",
    "        tempProducts.remove(random_prod)\n",
    "        newShelves[currShelf] = random_prod\n",
    "        currShelf += 1\n",
    "\n",
    "        if len(tempProducts) == 0:\n",
    "            tempProducts = [x for x in range(1, 91)]\n",
    "\n",
    "    return newShelves\n",
    "\n",
    "\n"
   ]
  },
  {
   "cell_type": "code",
   "execution_count": 14,
   "metadata": {},
   "outputs": [
    {
     "name": "stdout",
     "output_type": "stream",
     "text": [
      "[59, 75, 57, 2, 62, 66, 43, 50, 18, 76, 1, 23, 38, 17, 78, 56, 40, 48, 69, 80, 86, 32, 34, 10, 89, 70, 7, 54, 68, 88, 13, 77, 30, 28, 27, 20, 45, 61, 12, 71, 21, 87, 22, 5, 82, 31, 16, 60, 36, 65, 26, 74, 44, 58, 35, 6, 83, 9, 79, 72, 42, 85, 39, 3, 53, 73, 11, 25, 81, 15, 37, 14, 33, 64, 67, 29, 24, 46, 47, 41, 90, 8, 84, 19, 4, 52, 49, 51, 63, 55, 8, 73, 1, 3, 68, 85]\n"
     ]
    }
   ],
   "source": [
    "Shelves = ConstructionHeuristic_random()\n",
    "\n",
    "print(Shelves)"
   ]
  },
  {
   "cell_type": "code",
   "execution_count": null,
   "metadata": {},
   "outputs": [],
   "source": []
  }
 ],
 "metadata": {
  "kernelspec": {
   "display_name": "Python 3",
   "language": "python",
   "name": "python3"
  },
  "language_info": {
   "codemirror_mode": {
    "name": "ipython",
    "version": 3
   },
   "file_extension": ".py",
   "mimetype": "text/x-python",
   "name": "python",
   "nbconvert_exporter": "python",
   "pygments_lexer": "ipython3",
   "version": "3.12.1"
  }
 },
 "nbformat": 4,
 "nbformat_minor": 2
}
