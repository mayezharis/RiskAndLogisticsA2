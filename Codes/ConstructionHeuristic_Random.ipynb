{
 "cells": [
  {
   "cell_type": "code",
   "execution_count": 15,
   "metadata": {},
   "outputs": [],
   "source": [
    "import csv\n",
    "import numpy as np\n",
    "from collections import Counter\n",
    "import random\n",
    "import time\n",
    "import statistics\n",
    "import itertools"
   ]
  },
  {
   "cell_type": "code",
   "execution_count": 16,
   "metadata": {},
   "outputs": [],
   "source": [
    "file = open(\"C:\\\\Users\\\\Simeon Horner\\\\Documents\\\\GitHub\\\\RiskAndLogisticsA2\\\\Data Files\\\\CSV versions\\\\OrderList.csv\", encoding=\"utf-8\")\n",
    "csvreader = csv.reader(file)\n",
    "\n",
    "Orders = []\n",
    "\n",
    "for row in csvreader:\n",
    "    Orders.append([int(x) for x in row[1:]])\n",
    "\n",
    "Distances = np.genfromtxt('C:\\\\Users\\\\Simeon Horner\\\\Documents\\\\GitHub\\\\RiskAndLogisticsA2\\\\Data Files\\\\CSV versions\\\\DistanceMatrix_meters.csv', delimiter=',', skip_header=0, dtype='i')\n",
    "Distances[0, 0] = 0"
   ]
  },
  {
   "cell_type": "code",
   "execution_count": 17,
   "metadata": {},
   "outputs": [],
   "source": [
    "def ConstructionHeuristic_random():\n",
    "    newShelves = [0]*96\n",
    "    currShelf = 0\n",
    "\n",
    "    tempProducts = [x for x in range(1, 91)]\n",
    "\n",
    "    for i in range(len(newShelves)):\n",
    "        random_prod = random.choice(tempProducts)\n",
    "        tempProducts.remove(random_prod)\n",
    "        newShelves[currShelf] = random_prod\n",
    "        currShelf += 1\n",
    "\n",
    "        if len(tempProducts) == 0:\n",
    "            tempProducts = [x for x in range(1, 91)]\n",
    "\n",
    "    return newShelves\n",
    "\n",
    "\n"
   ]
  },
  {
   "cell_type": "code",
   "execution_count": 18,
   "metadata": {},
   "outputs": [],
   "source": [
    "def find_closest_product(current_shelf, order, distances):\n",
    "    closest_shelf = None\n",
    "    min_distance = float(1e6)\n",
    "    for shelf in order:\n",
    "        if distances[current_shelf][shelf] <= min_distance:\n",
    "            closest_shelf = shelf\n",
    "            min_distance = distances[current_shelf][shelf]\n",
    "    return closest_shelf\n",
    "\n",
    "def generate_order_lists(order):\n",
    "    ''' \n",
    "    Takes a list with tuple elements and returns a list of lists \n",
    "    with all possible combinations of individual elements individual elements.\n",
    "    '''\n",
    "    order_lists = []\n",
    "    tuple_indices = [i for i, item in enumerate(order) if isinstance(item, tuple)]\n",
    "    for combination in itertools.product(*[order[i] for i in tuple_indices]):\n",
    "        new_order = order.copy()\n",
    "        for i, index in enumerate(tuple_indices):\n",
    "            new_order[index] = combination[i]\n",
    "        order_lists.append(new_order)\n",
    "    return order_lists\n",
    "\n",
    "def greedy_order_route(order, distances):\n",
    "    ''' \n",
    "    Uses a greedy method of calculating the minimum distance. \n",
    "\n",
    "    Function has been split into two if statements to consider\n",
    "    cases of orders where products are contained on more than one shelf.\n",
    "\n",
    "    If products are contained on more than one shelf, the function constructs \n",
    "    a route with all possible shelf combinations and chooses the one with \n",
    "    the shortest distance.\n",
    "\n",
    "    Returns a list containing the route and the total distance for the order.\n",
    "    '''\n",
    "\n",
    "    # If all products in the order are contained on one shelf only\n",
    "    if not any(isinstance(product, tuple) for product in order):\n",
    "        visited = [0]\n",
    "        current_position = 0  \n",
    "        for k in range(len(order)):\n",
    "                closest_product = find_closest_product(current_position, order, distances)\n",
    "                visited.append(closest_product)\n",
    "                order.remove(closest_product)\n",
    "                current_position = closest_product\n",
    "        visited.append(0)\n",
    "        OrderDistance = 0\n",
    "        for i in range(len(visited) - 1):\n",
    "            OrderDistance += distances[visited[i]][visited[i+1]]\n",
    "        order_distance_final = OrderDistance\n",
    "        visited_final = visited\n",
    "\n",
    "    # If one or more products in the order are contained on more than one shelf\n",
    "    elif any(isinstance(product, tuple) for product in order):\n",
    "        order_combinations = generate_order_lists(order) # create new orders with all possible combinations from tuples\n",
    "        order_routes = []   # initialise a list of routes for all combinations                                 \n",
    "        order_distances = [] # initialise a list of distances for all combinations\n",
    "        \n",
    "        # loop over all combinations\n",
    "        for order in order_combinations:\n",
    "            visited = [0]\n",
    "            current_position = 0  \n",
    "            for k in range(len(order)):\n",
    "                closest_product = find_closest_product(current_position, order, distances)\n",
    "                visited.append(closest_product)\n",
    "                order.remove(closest_product)\n",
    "                current_position = closest_product\n",
    "            visited.append(0)\n",
    "            order_routes.append(visited) # add the route for the combination to the list of routes\n",
    "            OrderDistance = 0\n",
    "            for i in range(len(visited) - 1):\n",
    "                OrderDistance += distances[visited[i]][visited[i+1]]\n",
    "            order_distances.append(OrderDistance) # add the distance for the combination to the list of distances\n",
    "        \n",
    "        # select the order with the shortest distance among the combinations\n",
    "        min_idx = order_distances.index(min(order_distances))\n",
    "        visited_final = order_routes[min_idx] \n",
    "        order_distance_final = order_distances[min_idx]\n",
    "            \n",
    "    return visited_final, order_distance_final # return order route and distance\n",
    "\n",
    "def convert_orders_to_shelf_indices(allocations):\n",
    "    ''' \n",
    "    This function takes the allocation vector and returns an \n",
    "    order matrix with shelf indices instead of product indices.\n",
    "    '''\n",
    "    product_to_shelf = {}\n",
    "    for shelf_index, product in enumerate(allocations):\n",
    "        if product != 0:  # Check if the element is not zero\n",
    "            if product not in product_to_shelf:\n",
    "                product_to_shelf[product] = [shelf_index + 1]  # Initialize with a list containing the current shelf index\n",
    "            else:\n",
    "                # If the product already exists in the dictionary, append the new shelf index to the list\n",
    "                product_to_shelf[product].append(shelf_index + 1)\n",
    "\n",
    "    # Convert product_to_shelf dictionary to a list of tuples if the product is assigned to multiple shelves\n",
    "    product_to_shelf_tuples = {k: tuple(v) if len(v) > 1 else v[0] for k, v in product_to_shelf.items()}\n",
    "\n",
    "    OrdersByShelf = []\n",
    "    for order in Orders:\n",
    "        order_shelf_indices = []\n",
    "        for product_index in order:\n",
    "            if product_index in product_to_shelf_tuples:\n",
    "                shelf_indices = product_to_shelf_tuples[product_index]\n",
    "                order_shelf_indices.append(shelf_indices)\n",
    "            else:\n",
    "                order_shelf_indices.append(0)  # Product not found in allocation matrix\n",
    "        OrdersByShelf.append(order_shelf_indices)\n",
    "\n",
    "    return OrdersByShelf\n",
    "\n",
    "\n",
    "\n",
    "def q1_function(allocation_vector, distance_matrix):\n",
    "\n",
    "    OrdersByShelf = convert_orders_to_shelf_indices(allocation_vector)\n",
    "    TotalDistance = 0           # initialise counter for total distance\n",
    "    DistancesPerOrder = []      # initalise list to contain the distances for each order \n",
    "    routes = []                 # intialise list to contain the routes for each order\n",
    "    for order in OrdersByShelf:\n",
    "        visited_order_route, visited_order_dist = greedy_order_route(order, distance_matrix)\n",
    "        routes.append(visited_order_route)\n",
    "        DistancesPerOrder.append(visited_order_dist)\n",
    "        TotalDistance += visited_order_dist\n",
    "\n",
    "    # Replace DistancesPerOrder in the return statement with this if you want sorted distances to be returned\n",
    "    SortedDistancesPerOrder = sorted(DistancesPerOrder, reverse=True)\n",
    "\n",
    "    # The indices corresponding to the longest orders (descending order) \n",
    "    idx_longest_orders = sorted(range(len(DistancesPerOrder)), key=lambda i: DistancesPerOrder[i], reverse=True)\n",
    "\n",
    "    # List of routes ordered by distance (descending)\n",
    "    OrderedRoutes = [routes[i] for i in idx_longest_orders]\n",
    "    \n",
    "    return TotalDistance, DistancesPerOrder, SortedDistancesPerOrder, idx_longest_orders, OrderedRoutes"
   ]
  },
  {
   "cell_type": "code",
   "execution_count": 21,
   "metadata": {},
   "outputs": [],
   "source": [
    "times = []\n",
    "scores = []\n",
    "\n",
    "\n",
    "for i in range(100):\n",
    "    start = time.time()\n",
    "    Shelves = ConstructionHeuristic_random()\n",
    "    end = time.time()\n",
    "    times.append(end-start)\n",
    "\n",
    "    scores.append(q1_function(Shelves, Distances)[0])"
   ]
  },
  {
   "cell_type": "code",
   "execution_count": 22,
   "metadata": {},
   "outputs": [
    {
     "name": "stdout",
     "output_type": "stream",
     "text": [
      "9.242534637451172e-05\n",
      "278901\n"
     ]
    }
   ],
   "source": [
    "print(statistics.mean(times))\n",
    "print(statistics.mean(scores))"
   ]
  },
  {
   "cell_type": "code",
   "execution_count": 23,
   "metadata": {},
   "outputs": [],
   "source": [
    "CurrentAllocation = [45, 79, 39, 68, 73, 53, 19, 44, 16, 71, 27, 41, 2, 46, 60, 67, 56, 83, 80, 57, 69, 55, 75, 34, 89, 12, 81, 62, 23, 26, 24, 86, 3, 17, 90, 58, 51, 25, 85, 65, 31, 11, 87, 10, 13, 70, 35, 32, 47, 6, 30, 21, 43, 64, 66, 78, 76, 61, 8, 72, 22, 18, 82, 14, 28, 4, 5, 84, 54, 48, 63, 29, 49, 74, 37, 36, 20, 38, 50, 7, 88, 9, 40, 77, 15, 1, 33, 59, 42, 52, 0, 0, 0, 0, 0, 0]"
   ]
  },
  {
   "cell_type": "code",
   "execution_count": 24,
   "metadata": {},
   "outputs": [
    {
     "name": "stdout",
     "output_type": "stream",
     "text": [
      "286860\n"
     ]
    }
   ],
   "source": [
    "print(q1_function(CurrentAllocation, Distances)[0])"
   ]
  },
  {
   "cell_type": "code",
   "execution_count": 26,
   "metadata": {},
   "outputs": [
    {
     "name": "stdout",
     "output_type": "stream",
     "text": [
      "[90, 6, 85, 41, 17, 71, 54, 61, 63, 79, 16, 75, 69, 40, 60, 65, 22, 70, 59, 88, 77, 44, 2, 21, 33, 24, 35, 74, 72, 27, 46, 15, 12, 30, 86, 39, 29, 45, 7, 81, 66, 32, 5, 89, 1, 84, 28, 8, 57, 31, 80, 37, 64, 56, 36, 51, 73, 43, 20, 26, 11, 10, 76, 9, 25, 23, 18, 19, 13, 47, 4, 87, 48, 62, 14, 38, 83, 50, 67, 53, 82, 52, 78, 58, 3, 55, 34, 42, 68, 49, 69, 85, 47, 4, 90, 34]\n"
     ]
    }
   ],
   "source": [
    "print(ConstructionHeuristic_random())"
   ]
  }
 ],
 "metadata": {
  "kernelspec": {
   "display_name": "Python 3",
   "language": "python",
   "name": "python3"
  },
  "language_info": {
   "codemirror_mode": {
    "name": "ipython",
    "version": 3
   },
   "file_extension": ".py",
   "mimetype": "text/x-python",
   "name": "python",
   "nbconvert_exporter": "python",
   "pygments_lexer": "ipython3",
   "version": "3.12.1"
  }
 },
 "nbformat": 4,
 "nbformat_minor": 2
}
