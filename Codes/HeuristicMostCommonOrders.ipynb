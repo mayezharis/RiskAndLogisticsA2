{
 "cells": [
  {
   "cell_type": "code",
   "execution_count": 12,
   "metadata": {},
   "outputs": [],
   "source": [
    "import csv\n",
    "import numpy as np\n",
    "from collections import Counter\n",
    "import time"
   ]
  },
  {
   "cell_type": "markdown",
   "metadata": {},
   "source": []
  },
  {
   "cell_type": "code",
   "execution_count": 7,
   "metadata": {},
   "outputs": [],
   "source": [
    "file = open(\"C:\\\\Users\\\\Simeon Horner\\\\Documents\\\\GitHub\\\\RiskAndLogisticsA2\\\\Data Files\\\\CSV versions\\\\OrderList.csv\", encoding=\"utf-8\")\n",
    "csvreader = csv.reader(file)\n",
    "\n",
    "Orders = []\n",
    "\n",
    "for row in csvreader:\n",
    "    Orders.append([int(x) for x in row[1:]])\n",
    "\n",
    "Distances = np.genfromtxt('C:\\\\Users\\\\Simeon Horner\\\\Documents\\\\GitHub\\\\RiskAndLogisticsA2\\\\Data Files\\\\CSV versions\\\\DistanceMatrix_meters.csv', delimiter=',', skip_header=0, dtype='i')\n",
    "Distances[0, 0] = 0"
   ]
  },
  {
   "cell_type": "code",
   "execution_count": 8,
   "metadata": {},
   "outputs": [
    {
     "name": "stdout",
     "output_type": "stream",
     "text": [
      "[[ 0  3  6 ... 81 84  6]\n",
      " [ 3  0  3 ... 84 81  9]\n",
      " [ 6  3  0 ... 81 78 12]\n",
      " ...\n",
      " [81 84 81 ...  0  3 75]\n",
      " [84 81 78 ...  3  0 78]\n",
      " [ 6  9 12 ... 75 78  0]]\n"
     ]
    }
   ],
   "source": [
    "print(Distances)"
   ]
  },
  {
   "cell_type": "code",
   "execution_count": 9,
   "metadata": {},
   "outputs": [],
   "source": [
    "def getMostCommonProducts(Orders):\n",
    "    #flattens list and removes 0\n",
    "    flattenedList = [x for x in [item for sublist in Orders for item in sublist] if x != 0]\n",
    "\n",
    "    #gets counts for products\n",
    "    itemCounts = Counter(flattenedList)\n",
    "\n",
    "    #sorts and returns only original number, not the count\n",
    "    sorted_items = sorted(itemCounts.items(), key=lambda x: x[1], reverse=True)\n",
    "    original_numbers = [item for item, _ in sorted_items]\n",
    "\n",
    "    return original_numbers\n",
    "    \n",
    "\n",
    "def getClosestShelves(Distances):\n",
    "    #Gets the final row of the matrix as this represents the distance to door (packaging)\n",
    "    distanceToDoor = Distances[-1]\n",
    "\n",
    "    #gets the index, and distance\n",
    "    indexed_numbers = list(enumerate(distanceToDoor))\n",
    "\n",
    "    #sorts based on distance and then takes only the index\n",
    "    sorted_indexed_numbers = sorted(indexed_numbers, key=lambda x: x[1])\n",
    "    sorted_indexes = [index for index, _ in sorted_indexed_numbers]\n",
    "\n",
    "    #ignores the first value as this is the door -> door distance = 0\n",
    "    return sorted_indexes[1:]\n",
    "\n",
    "def ConstructionHeuristic_mostCommonOrder(Orders, Distances):\n",
    "    mostCommonProducts = getMostCommonProducts(Orders)\n",
    "\n",
    "    ClosestShelves = getClosestShelves(Distances)\n",
    "\n",
    "    print(ClosestShelves)\n",
    "    newShelves = [0]*96\n",
    "    counter = 0\n",
    "\n",
    "    for i, shelf in enumerate(ClosestShelves):\n",
    "\n",
    "        newShelves[shelf] = mostCommonProducts[counter]\n",
    "        counter += 1\n",
    "\n",
    "        if counter == len(mostCommonProducts):\n",
    "            counter = 0\n",
    "\n",
    "    return newShelves\n",
    "    "
   ]
  },
  {
   "cell_type": "code",
   "execution_count": 14,
   "metadata": {},
   "outputs": [
    {
     "name": "stdout",
     "output_type": "stream",
     "text": [
      "[0, 24, 1, 25, 48, 72, 2, 26, 49, 73, 3, 27, 50, 74, 4, 28, 51, 75, 5, 29, 52, 76, 6, 30, 53, 77, 7, 31, 54, 78, 8, 32, 55, 79, 9, 33, 56, 80, 10, 34, 57, 81, 11, 35, 58, 82, 12, 36, 59, 83, 13, 37, 60, 84, 14, 38, 61, 85, 15, 39, 62, 86, 16, 40, 63, 87, 17, 41, 64, 88, 18, 42, 65, 89, 19, 43, 66, 90, 20, 44, 67, 91, 21, 45, 68, 92, 22, 46, 69, 93, 23, 47, 70, 94, 71, 95]\n",
      "0.0026404857635498047\n",
      "[34, 35, 18, 2, 50, 11, 48, 60, 19, 44, 47, 64, 74, 68, 69, 21, 88, 14, 36, 53, 26, 3, 7, 34, 31, 71, 30, 58, 49, 28, 33, 43, 1, 59, 66, 46, 65, 90, 16, 45, 27, 80, 75, 61, 40, 86, 42, 31, 70, 51, 67, 4, 10, 52, 8, 63, 13, 72, 20, 32, 89, 82, 87, 24, 54, 9, 25, 62, 73, 17, 35, 70, 15, 76, 6, 83, 38, 78, 55, 39, 57, 37, 84, 77, 79, 29, 22, 5, 23, 56, 12, 41, 85, 81, 71, 15]\n"
     ]
    }
   ],
   "source": [
    "\n",
    "start = time.time()\n",
    "shelves = ConstructionHeuristic_mostCommonOrder(Orders, Distances)\n",
    "end = time.time()\n",
    "\n",
    "print(end-start)\n",
    "\n",
    "print(shelves)"
   ]
  },
  {
   "cell_type": "code",
   "execution_count": null,
   "metadata": {},
   "outputs": [],
   "source": []
  }
 ],
 "metadata": {
  "kernelspec": {
   "display_name": "Python 3",
   "language": "python",
   "name": "python3"
  },
  "language_info": {
   "codemirror_mode": {
    "name": "ipython",
    "version": 3
   },
   "file_extension": ".py",
   "mimetype": "text/x-python",
   "name": "python",
   "nbconvert_exporter": "python",
   "pygments_lexer": "ipython3",
   "version": "3.12.1"
  }
 },
 "nbformat": 4,
 "nbformat_minor": 2
}
