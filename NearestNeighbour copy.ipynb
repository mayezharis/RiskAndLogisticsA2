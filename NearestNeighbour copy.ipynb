{
 "cells": [
  {
   "cell_type": "code",
   "execution_count": 1,
   "metadata": {},
   "outputs": [],
   "source": [
    "import re\n",
    "import numpy as np\n",
    "import itertools\n",
    "from collections import Counter\n",
    "import linecache as lc"
   ]
  },
  {
   "cell_type": "code",
   "execution_count": 2,
   "metadata": {},
   "outputs": [],
   "source": [
    "def read_file(filename):\n",
    "    with open(filename, 'r') as file:\n",
    "        content = file.read()  # Open the file in read mode\n",
    "\n",
    "    data = {}  # Initialize data as an empty dictionary\n",
    "\n",
    "    # Each file has number of inputs under which data is stored as a matrix\n",
    "    numerical_data = re.findall(r'\\[([\\d\\s.]+)\\]', content)  # Extract values following each header as numerical values and remove '\\t's and '\\n's\n",
    "\n",
    "    sections = ['Orders', 'Allocations', 'DistanceShelfShelf', 'DistancePackagingShelf', 'FullDistanceMatrixMetres']\n",
    "\n",
    "    for i, section in enumerate(sections):\n",
    "        data[section] = []\n",
    "        lines = numerical_data[i].strip().split('\\n')\n",
    "        for line in lines:\n",
    "            values = line.strip().split()  # Split using spaces\n",
    "            data[section].append([int(val) for val in values])  # Assuming all values are integers\n",
    "\n",
    "    return data"
   ]
  },
  {
   "cell_type": "markdown",
   "metadata": {},
   "source": [
    "# Reading in data and running the entire function"
   ]
  },
  {
   "cell_type": "code",
   "execution_count": 3,
   "metadata": {},
   "outputs": [],
   "source": [
    "filename = r\"Xpress Data Files/Data_Xpress_FullDist_Metres.txt\"\n",
    "data = read_file(filename)\n",
    "\n",
    "# Extracting data into arrays\n",
    "Orders = data.get('Orders')\n",
    "Allocations = np.asarray(data.get('Allocations')[0])\n",
    "DistanceShelfShelf = np.asarray(data.get('DistanceShelfShelf'))\n",
    "FullDistanceMatrix = np.asarray(data.get('FullDistanceMatrixMetres'))\n",
    "\n",
    "NbShelves = 96\n",
    "Shelves = range(1, NbShelves + 1)\n",
    "\n",
    "FullDistanceMatrix = np.roll(FullDistanceMatrix, shift = 1, axis = 1)\n",
    "FullDistanceMatrix = np.roll(FullDistanceMatrix, shift = 1, axis = 0)\n",
    "\n",
    "\n",
    "# testing for allocation vector where every shelf is filled\n",
    "allocations_full = [45, 79, 39, 68, 73, 53, 19, 44, 16, 71, 27, 41,  2, 46, 60, 67, 56, \n",
    "                    83, 80, 57, 69, 55, 75, 34, 89, 12, 81, 62, 23, 26, 24, 86,  3, 17,\n",
    "                    90, 58, 51, 25, 85, 65, 31, 11, 87, 10, 13, 70, 35, 32, 47,  6, 30,\n",
    "                    21, 43, 64, 66, 78, 76, 61,  8, 72, 22, 18, 82, 14, 28,  4,  5, 84,\n",
    "                    54, 48, 63, 29, 49, 74, 37, 36, 20, 38, 50,  7, 88,  9, 40, 77, 15,\n",
    "                    1, 33, 59, 42, 52,  45, 79, 39, 68, 73, 53]\n",
    "\n",
    "\n",
    "# testing where only some of the extra shelves are filled\n",
    "allocations_mid_full = [45, 79, 39, 68, 73, 53, 19, 44, 16, 71, 27, 41,  2, 46, 60, 67, 56, \n",
    "                        83, 80, 57, 69, 55, 75, 34, 89, 12, 81, 62, 23, 26, 24, 86,  3, 17,\n",
    "                        90, 58, 51, 25, 85, 65, 31, 11, 87, 10, 13, 70, 35, 32, 47,  6, 30,\n",
    "                        21, 43, 64, 66, 78, 76, 61,  8, 72, 22, 18, 82, 14, 28,  4,  5, 84,\n",
    "                        54, 48, 63, 29, 49, 74, 37, 36, 20, 38, 50,  7, 88,  9, 40, 77, 15,\n",
    "                        1, 33, 59, 42, 52,  45, 79,  0, 68,  0, 53]\n"
   ]
  },
  {
   "cell_type": "code",
   "execution_count": 4,
   "metadata": {},
   "outputs": [
    {
     "data": {
      "text/plain": [
       "array([45, 79, 39, 68, 73, 53, 19, 44, 16, 71, 27, 41,  2, 46, 60, 67, 56,\n",
       "       83, 80, 57, 69, 55, 75, 34, 89, 12, 81, 62, 23, 26, 24, 86,  3, 17,\n",
       "       90, 58, 51, 25, 85, 65, 31, 11, 87, 10, 13, 70, 35, 32, 47,  6, 30,\n",
       "       21, 43, 64, 66, 78, 76, 61,  8, 72, 22, 18, 82, 14, 28,  4,  5, 84,\n",
       "       54, 48, 63, 29, 49, 74, 37, 36, 20, 38, 50,  7, 88,  9, 40, 77, 15,\n",
       "        1, 33, 59, 42, 52,  0,  0,  0,  0,  0,  0])"
      ]
     },
     "execution_count": 4,
     "metadata": {},
     "output_type": "execute_result"
    }
   ],
   "source": [
    "Allocations"
   ]
  },
  {
   "cell_type": "code",
   "execution_count": 5,
   "metadata": {},
   "outputs": [],
   "source": [
    "def find_closest_product(current_shelf, order, distances):\n",
    "    closest_shelf = None\n",
    "    min_distance = float(1e6)\n",
    "    for shelf in order:\n",
    "        if distances[current_shelf][shelf] <= min_distance:\n",
    "            closest_shelf = shelf\n",
    "            min_distance = distances[current_shelf][shelf]\n",
    "    return closest_shelf\n",
    "\n",
    "def generate_order_lists(order):\n",
    "    ''' \n",
    "    Takes a list with tuple elements and returns a list of lists \n",
    "    with all possible combinations of individual elements individual elements.\n",
    "    '''\n",
    "    order_lists = []\n",
    "    tuple_indices = [i for i, item in enumerate(order) if isinstance(item, tuple)]\n",
    "    for combination in itertools.product(*[order[i] for i in tuple_indices]):\n",
    "        new_order = order.copy()\n",
    "        for i, index in enumerate(tuple_indices):\n",
    "            new_order[index] = combination[i]\n",
    "        order_lists.append(new_order)\n",
    "    return order_lists\n",
    "\n",
    "def greedy_order_route(order, distances):\n",
    "    ''' \n",
    "    Uses a greedy method of calculating the minimum distance. \n",
    "\n",
    "    Function has been split into two if statements to consider\n",
    "    cases of orders where products are contained on more than one shelf.\n",
    "\n",
    "    If products are contained on more than one shelf, the function constructs \n",
    "    a route with all possible shelf combinations and chooses the one with \n",
    "    the shortest distance.\n",
    "\n",
    "    Returns a list containing the route and the total distance for the order.\n",
    "    '''\n",
    "\n",
    "    # If all products in the order are contained on one shelf only\n",
    "    if not any(isinstance(product, tuple) for product in order):\n",
    "        visited = [0]\n",
    "        current_position = 0  \n",
    "        for k in range(len(order)):\n",
    "                closest_product = find_closest_product(current_position, order, distances)\n",
    "                visited.append(closest_product)\n",
    "                order.remove(closest_product)\n",
    "                current_position = closest_product\n",
    "        visited.append(0)\n",
    "        OrderDistance = 0\n",
    "        for i in range(len(visited) - 1):\n",
    "            OrderDistance += distances[visited[i]][visited[i+1]]\n",
    "        order_distance_final = OrderDistance\n",
    "        visited_final = visited\n",
    "\n",
    "    # If one or more products in the order are contained on more than one shelf\n",
    "    elif any(isinstance(product, tuple) for product in order):\n",
    "        order_combinations = generate_order_lists(order) # create new orders with all possible combinations from tuples\n",
    "        order_routes = []   # initialise a list of routes for all combinations                                 \n",
    "        order_distances = [] # initialise a list of distances for all combinations\n",
    "        \n",
    "        # loop over all combinations\n",
    "        for order in order_combinations:\n",
    "            visited = [0]\n",
    "            current_position = 0  \n",
    "            for k in range(len(order)):\n",
    "                closest_product = find_closest_product(current_position, order, distances)\n",
    "                visited.append(closest_product)\n",
    "                order.remove(closest_product)\n",
    "                current_position = closest_product\n",
    "            visited.append(0)\n",
    "            order_routes.append(visited) # add the route for the combination to the list of routes\n",
    "            OrderDistance = 0\n",
    "            for i in range(len(visited) - 1):\n",
    "                OrderDistance += distances[visited[i]][visited[i+1]]\n",
    "            order_distances.append(OrderDistance) # add the distance for the combination to the list of distances\n",
    "        \n",
    "        # select the order with the shortest distance among the combinations\n",
    "        min_idx = order_distances.index(min(order_distances))\n",
    "        visited_final = order_routes[min_idx] \n",
    "        order_distance_final = order_distances[min_idx]\n",
    "            \n",
    "    return visited_final, order_distance_final # return order route and distance\n",
    "\n",
    "def convert_orders_to_shelf_indices(allocations):\n",
    "    ''' \n",
    "    This function takes the allocation vector and returns an \n",
    "    order matrix with shelf indices instead of product indices.\n",
    "    '''\n",
    "    product_to_shelf = {}\n",
    "    for shelf_index, product in enumerate(allocations):\n",
    "        if product != 0:  # Check if the element is not zero\n",
    "            if product not in product_to_shelf:\n",
    "                product_to_shelf[product] = [shelf_index + 1]  # Initialize with a list containing the current shelf index\n",
    "            else:\n",
    "                # If the product already exists in the dictionary, append the new shelf index to the list\n",
    "                product_to_shelf[product].append(shelf_index + 1)\n",
    "\n",
    "    # Convert product_to_shelf dictionary to a list of tuples if the product is assigned to multiple shelves\n",
    "    product_to_shelf_tuples = {k: tuple(v) if len(v) > 1 else v[0] for k, v in product_to_shelf.items()}\n",
    "\n",
    "    OrdersByShelf = []\n",
    "    for order in Orders:\n",
    "        order_shelf_indices = []\n",
    "        for product_index in order:\n",
    "            if product_index in product_to_shelf_tuples:\n",
    "                shelf_indices = product_to_shelf_tuples[product_index]\n",
    "                order_shelf_indices.append(shelf_indices)\n",
    "            else:\n",
    "                order_shelf_indices.append(0)  # Product not found in allocation matrix\n",
    "        OrdersByShelf.append(order_shelf_indices)\n",
    "\n",
    "    return OrdersByShelf"
   ]
  },
  {
   "cell_type": "code",
   "execution_count": 6,
   "metadata": {},
   "outputs": [],
   "source": [
    "def q1_function(allocation_vector, distance_matrix):   \n",
    "\n",
    "    OrdersByShelf = convert_orders_to_shelf_indices(allocation_vector)\n",
    "    TotalDistance = 0           # initialise counter for total distance\n",
    "    DistancesPerOrder = []      # initalise list to contain the distances for each order \n",
    "    Routes = []                 # intialise list to contain the routes for each order\n",
    "    for order in OrdersByShelf:\n",
    "        visited_order_route, visited_order_dist = greedy_order_route(order, distance_matrix)\n",
    "        Routes.append(visited_order_route)\n",
    "        DistancesPerOrder.append(visited_order_dist)\n",
    "        TotalDistance += visited_order_dist\n",
    "\n",
    "    # Replace DistancesPerOrder in the return statement with this if you want sorted distances to be returned\n",
    "    SortedDistancesPerOrder = sorted(DistancesPerOrder, reverse=True)\n",
    "\n",
    "    # The indices corresponding to the longest orders (descending order) \n",
    "    idx_longest_orders = sorted(range(len(DistancesPerOrder)), key=lambda i: DistancesPerOrder[i], reverse = True)\n",
    "    \n",
    "    # List of routes ordered by distance (descending)\n",
    "    OrderedRoutes = [Routes[i] for i in idx_longest_orders]\n",
    "\n",
    "    return TotalDistance, DistancesPerOrder, SortedDistancesPerOrder, idx_longest_orders, OrderedRoutes"
   ]
  },
  {
   "cell_type": "code",
   "execution_count": 7,
   "metadata": {},
   "outputs": [],
   "source": [
    "### TEST CASE ON CURRENT ALLOCATION ###\n",
    "TotalDistance, DistancesPerOrder, SortedDistancesPerOrder, idx_longest_orders, OrderedRoutes = q1_function(Allocations)"
   ]
  },
  {
   "cell_type": "markdown",
   "metadata": {},
   "source": [
    "#### Obtaining total distances for different allocations"
   ]
  },
  {
   "cell_type": "code",
   "execution_count": 8,
   "metadata": {},
   "outputs": [
    {
     "name": "stdout",
     "output_type": "stream",
     "text": [
      "Distance for the current allocation: 290706 metres.\n",
      "Distance for all shelves filled: 289200 metres.\n",
      "Distance for some repeated products and some empty shelves: 289728 metres.\n"
     ]
    }
   ],
   "source": [
    "print(f\"Distance for the current allocation: {q1_function(Allocations)[0]} metres.\")\n",
    "print(f\"Distance for all shelves filled: {q1_function(allocations_full)[0]} metres.\")\n",
    "print(f\"Distance for some repeated products and some empty shelves: {q1_function(allocations_mid_full)[0]} metres.\")"
   ]
  },
  {
   "cell_type": "markdown",
   "metadata": {},
   "source": [
    "## The functions contained within the distance function (for testing and sanity checks)"
   ]
  },
  {
   "cell_type": "code",
   "execution_count": 9,
   "metadata": {},
   "outputs": [],
   "source": [
    "# def find_closest_product(current_position, order, distances):\n",
    "#     closest_shelf = None\n",
    "#     min_distance = float(1e6)\n",
    "#     for shelf in order:\n",
    "#         if distances[current_position][shelf] <= min_distance:\n",
    "#             closest_shelf = shelf\n",
    "#             min_distance = distances[current_position][shelf]\n",
    "#     return closest_shelf\n",
    "\n",
    "# def generate_order_lists(order):\n",
    "#     ''' \n",
    "#     Takes a list with tuple elements and returns a list of lists \n",
    "#     with all possible combinations of individual elements individual elements.\n",
    "#     '''\n",
    "#     order_lists = []\n",
    "#     tuple_indices = [i for i, item in enumerate(order) if isinstance(item, tuple)]\n",
    "#     for combination in itertools.product(*[order[i] for i in tuple_indices]):\n",
    "#         new_order = order.copy()\n",
    "#         for i, index in enumerate(tuple_indices):\n",
    "#             new_order[index] = combination[i]\n",
    "#         order_lists.append(new_order)\n",
    "#     return order_lists\n",
    "\n",
    "# def greedy_order_route(order, distances):\n",
    "#     ''' \n",
    "#     Uses a greedy method of calculating the minimum distance. \n",
    "\n",
    "#     Function has been split into two if statements to consider\n",
    "#     cases of orders where products are contained on more than one shelf.\n",
    "\n",
    "#     If products are contained on more than one shelf, the function constructs \n",
    "#     a route with all possible shelf combinations and chooses the one with \n",
    "#     the shortest distance.\n",
    "\n",
    "#     Returns a list containing the route and the total distance for the order.\n",
    "#     '''\n",
    "\n",
    "#     # If all products in the order are contained on one shelf only\n",
    "#     if not any(isinstance(product, tuple) for product in order):\n",
    "#         visited = [0]\n",
    "#         current_position = 0  \n",
    "#         for k in range(len(order)):\n",
    "#                 closest_product = find_closest_product(current_position, order, distances)\n",
    "#                 visited.append(closest_product)\n",
    "#                 order.remove(closest_product)\n",
    "#                 current_position = closest_product\n",
    "#         visited.append(0)\n",
    "#         OrderDistance = 0\n",
    "#         for i in range(len(visited) - 1):\n",
    "#             OrderDistance += distances[visited[i]][visited[i+1]]\n",
    "#         order_distance_final = OrderDistance\n",
    "#         visited_final = visited\n",
    "\n",
    "#     # If one or more products in the order are contained on more than one shelf\n",
    "#     elif any(isinstance(product, tuple) for product in order):\n",
    "#         order_combinations = generate_order_lists(order) # create new orders with all possible combinations from tuples\n",
    "#         order_routes = []   # initialise a list of routes for all combinations                                 \n",
    "#         order_distances = [] # initialise a list of distances for all combinations\n",
    "        \n",
    "#         # loop over all combinations\n",
    "#         for order in order_combinations:\n",
    "#             visited = [0]\n",
    "#             current_position = 0  \n",
    "#             for k in range(len(order)):\n",
    "#                 closest_product = find_closest_product(current_position, order, distances)\n",
    "#                 visited.append(closest_product)\n",
    "#                 order.remove(closest_product)\n",
    "#                 current_position = closest_product\n",
    "#             visited.append(0)\n",
    "#             order_routes.append(visited) # add the route for the combination to the list of routes\n",
    "#             OrderDistance = 0\n",
    "#             for i in range(len(visited) - 1):\n",
    "#                 OrderDistance += distances[visited[i]][visited[i+1]]\n",
    "#             order_distances.append(OrderDistance) # add the distance for the combination to the list of distances\n",
    "        \n",
    "#         # select the order with the shortest distance among the combinations\n",
    "#         min_idx = order_distances.index(min(order_distances))\n",
    "#         visited_final = order_routes[min_idx] \n",
    "#         order_distance_final = order_distances[min_idx]\n",
    "            \n",
    "#     return visited_final, order_distance_final # return order route and distance\n",
    "\n",
    "# def convert_orders_to_shelf_indices(allocations):\n",
    "#     ''' \n",
    "#     This function takes the allocation vector and returns an \n",
    "#     order matrix with shelf indices instead of product indices.\n",
    "#     '''\n",
    "#     product_to_shelf = {}\n",
    "#     for shelf_index, product in enumerate(allocations):\n",
    "#         if product != 0:  # Check if the element is not zero\n",
    "#             if product not in product_to_shelf:\n",
    "#                 product_to_shelf[product] = [shelf_index + 1]  # Initialize with a list containing the current shelf index\n",
    "#             else:\n",
    "#                 # If the product already exists in the dictionary, append the new shelf index to the list\n",
    "#                 product_to_shelf[product].append(shelf_index + 1)\n",
    "\n",
    "#     # Convert product_to_shelf dictionary to a list of tuples if the product is assigned to multiple shelves\n",
    "#     product_to_shelf_tuples = {k: tuple(v) if len(v) > 1 else v[0] for k, v in product_to_shelf.items()}\n",
    "\n",
    "#     OrdersByShelf = []\n",
    "#     for order in Orders:\n",
    "#         order_shelf_indices = []\n",
    "#         for product_index in order:\n",
    "#             if product_index in product_to_shelf_tuples:\n",
    "#                 shelf_indices = product_to_shelf_tuples[product_index]\n",
    "#                 order_shelf_indices.append(shelf_indices)\n",
    "#             else:\n",
    "#                 order_shelf_indices.append(0)  # Product not found in allocation matrix\n",
    "#         OrdersByShelf.append(order_shelf_indices)\n",
    "\n",
    "#     return OrdersByShelf\n",
    "\n",
    "\n",
    "\n",
    "# allocation_vector = allocations_full # change this to test different allocations\n",
    "\n",
    "# OrdersByShelf = convert_orders_to_shelf_indices(allocation_vector) \n",
    "# TotalDistance = 0           # initialise counter for total distance\n",
    "# DistancesPerOrder = []      # initalise list to contain the distances for each order \n",
    "# routes = []                 # intialise list to contain the routes for each order\n",
    "# for order in OrdersByShelf:\n",
    "#     visited_order_route, visited_order_dist = greedy_order_route(order, FullDistanceMatrix)\n",
    "#     routes.append(visited_order_route)\n",
    "#     DistancesPerOrder.append(3*visited_order_dist)\n",
    "#     TotalDistance += 3*visited_order_dist\n",
    "\n",
    "# # Replace DistancesPerOrder in the return statement with this if you want sorted distances to be returned\n",
    "# SortedDistancesPerOrder = sorted(DistancesPerOrder, reverse=True)\n",
    "\n",
    "# # The indices corresponding to the longest orders (descending order) \n",
    "# idx_longest_orders = sorted(range(len(DistancesPerOrder)), key=lambda i: DistancesPerOrder[i], reverse=True)"
   ]
  },
  {
   "cell_type": "markdown",
   "metadata": {},
   "source": [
    "# Checking Construction Heuristics"
   ]
  },
  {
   "cell_type": "code",
   "execution_count": 10,
   "metadata": {},
   "outputs": [],
   "source": [
    "def getMostCommonProducts(Orders):\n",
    "    flattenedList = [x for x in [item for sublist in Orders for item in sublist] if x != 0]\n",
    "\n",
    "    itemCounts = Counter(flattenedList)\n",
    "\n",
    "    sorted_items = sorted(itemCounts.items(), key=lambda x: x[1], reverse=True)\n",
    "    original_numbers = [item for item, _ in sorted_items]\n",
    "\n",
    "    return itemCounts, original_numbers\n",
    "\n",
    "\n",
    "def getClosestShelves(Distances):\n",
    "    distanceToDoor = Distances[0] # consider the distance vector for the door\n",
    "    indexed_numbers = list(enumerate(distanceToDoor)) # indices and distances from door\n",
    "\n",
    "    sorted_indexed_numbers = sorted(indexed_numbers, key=lambda x: x[1]) # sort indices by distance from door (ascending)\n",
    "    sorted_indexes = [tuple([index,dist])  for index, dist in sorted_indexed_numbers if index > 0]\n",
    "\n",
    "    return sorted_indexes # print index of shelf and its corresponding distance\n",
    "\n",
    "\n",
    "def ConstructionHeuristic_mostCommonOrder(Orders, Distances, fill_extra_shelves = True, nbAdditionalShelves=6):\n",
    "    mostCommonProducts = getMostCommonProducts(Orders)[1] # get the most common products\n",
    "\n",
    "    # if statement to decide whether you want to fill extra shelves or not\n",
    "    # nbAdditionalShelves determines how many extra shelves you fill\n",
    "    if fill_extra_shelves == True:\n",
    "        mostCommonProducts = mostCommonProducts + mostCommonProducts[:nbAdditionalShelves] \n",
    "    elif fill_extra_shelves == False:\n",
    "        mostCommonProducts = mostCommonProducts\n",
    "\n",
    "    ClosestShelves, ClosestDistances = map(list, zip(*getClosestShelves(Distances)))\n",
    "\n",
    "    newShelves = [0]*96  # initialise empty shelf allocation vector\n",
    "\n",
    "    for i, prod in zip(ClosestShelves, mostCommonProducts):\n",
    "        newShelves[i-1] = prod  # assign products based on the closest shelves\n",
    "\n",
    "    return np.array(newShelves)"
   ]
  },
  {
   "cell_type": "code",
   "execution_count": 11,
   "metadata": {},
   "outputs": [],
   "source": [
    "shelves, distances = map(list, zip(*getClosestShelves(FullDistanceMatrix)))"
   ]
  },
  {
   "cell_type": "code",
   "execution_count": 12,
   "metadata": {},
   "outputs": [],
   "source": [
    "mostCommonOrderAllocation = ConstructionHeuristic_mostCommonOrder(Orders, \n",
    "                                                                  FullDistanceMatrix, \n",
    "                                                                  fill_extra_shelves=False, \n",
    "                                                                  nbAdditionalShelves=6)"
   ]
  },
  {
   "cell_type": "code",
   "execution_count": 13,
   "metadata": {},
   "outputs": [
    {
     "data": {
      "text/plain": [
       "205038"
      ]
     },
     "execution_count": 13,
     "metadata": {},
     "output_type": "execute_result"
    }
   ],
   "source": [
    "q1_function(mostCommonOrderAllocation)[0]"
   ]
  },
  {
   "cell_type": "code",
   "execution_count": 14,
   "metadata": {},
   "outputs": [
    {
     "data": {
      "text/plain": [
       "array([34, 35, 18,  2, 50, 11, 48, 60, 19, 44, 47, 64, 74, 68, 69, 21, 88,\n",
       "       14, 36, 53, 26,  3,  7,  0, 31, 71, 30, 58, 49, 28, 33, 43,  1, 59,\n",
       "       66, 46, 65, 90, 16, 45, 27, 80, 75, 61, 40, 86, 42,  0, 70, 51, 67,\n",
       "        4, 10, 52,  8, 63, 13, 72, 20, 32, 89, 82, 87, 24, 54,  9, 25, 62,\n",
       "       73, 17,  0,  0, 15, 76,  6, 83, 38, 78, 55, 39, 57, 37, 84, 77, 79,\n",
       "       29, 22,  5, 23, 56, 12, 41, 85, 81,  0,  0])"
      ]
     },
     "execution_count": 14,
     "metadata": {},
     "output_type": "execute_result"
    }
   ],
   "source": [
    "mostCommonOrderAllocation"
   ]
  },
  {
   "cell_type": "code",
   "execution_count": 15,
   "metadata": {},
   "outputs": [],
   "source": [
    "def allocation_to_txt(allocation_vector, file_path):\n",
    "    np.savetxt(file_path, allocation_vector, fmt = \"%d\", delimiter = \",\", newline=\" \")\n",
    "\n",
    "def allocation_from_txt(file):\n",
    "    allocation_vector = lc.getline(file, 1).split(\" \")[:-1]\n",
    "    allocation_vector = [int(prod) for prod in allocation_vector]\n",
    "    return np.array(allocation_vector)"
   ]
  },
  {
   "cell_type": "code",
   "execution_count": 16,
   "metadata": {},
   "outputs": [],
   "source": [
    "allocation_to_txt(mostCommonOrderAllocation, \"Allocation Vectors/mostCommonOrderAllocation.txt\")"
   ]
  },
  {
   "cell_type": "code",
   "execution_count": 17,
   "metadata": {},
   "outputs": [
    {
     "data": {
      "text/plain": [
       "array([34, 35, 18,  2, 50, 11, 48, 60, 19, 44, 47, 64, 74, 68, 69, 21, 88,\n",
       "       14, 36, 53, 26,  3,  7,  0, 31, 71, 30, 58, 49, 28, 33, 43,  1, 59,\n",
       "       66, 46, 65, 90, 16, 45, 27, 80, 75, 61, 40, 86, 42,  0, 70, 51, 67,\n",
       "        4, 10, 52,  8, 63, 13, 72, 20, 32, 89, 82, 87, 24, 54,  9, 25, 62,\n",
       "       73, 17,  0,  0, 15, 76,  6, 83, 38, 78, 55, 39, 57, 37, 84, 77, 79,\n",
       "       29, 22,  5, 23, 56, 12, 41, 85, 81,  0,  0])"
      ]
     },
     "execution_count": 17,
     "metadata": {},
     "output_type": "execute_result"
    }
   ],
   "source": [
    "allocation_from_txt(\"Allocation Vectors/mostCommonOrderAllocation.txt\")"
   ]
  },
  {
   "cell_type": "code",
   "execution_count": 18,
   "metadata": {},
   "outputs": [],
   "source": [
    "for i in range(6):\n",
    "    allocation_extra_shelves = ConstructionHeuristic_mostCommonOrder(Orders,\n",
    "                                                                     FullDistanceMatrix,\n",
    "                                                                     fill_extra_shelves=True,\n",
    "                                                                     nbAdditionalShelves=i+1)\n",
    "    allocation_to_txt(allocation_extra_shelves, f\"Allocation Vectors/CommonOrder_{i+1}_Extra\")"
   ]
  }
 ],
 "metadata": {
  "kernelspec": {
   "display_name": "Python 3",
   "language": "python",
   "name": "python3"
  },
  "language_info": {
   "codemirror_mode": {
    "name": "ipython",
    "version": 3
   },
   "file_extension": ".py",
   "mimetype": "text/x-python",
   "name": "python",
   "nbconvert_exporter": "python",
   "pygments_lexer": "ipython3",
   "version": "3.11.8"
  }
 },
 "nbformat": 4,
 "nbformat_minor": 2
}
