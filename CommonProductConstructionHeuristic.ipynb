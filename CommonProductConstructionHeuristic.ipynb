{
 "cells": [
  {
   "cell_type": "markdown",
   "metadata": {},
   "source": [
    "# Imports"
   ]
  },
  {
   "cell_type": "code",
   "execution_count": 56,
   "metadata": {},
   "outputs": [],
   "source": [
    "import re\n",
    "import numpy as np\n",
    "from collections import Counter\n",
    "import pandas as pd"
   ]
  },
  {
   "cell_type": "markdown",
   "metadata": {},
   "source": [
    "# Code to read data"
   ]
  },
  {
   "cell_type": "markdown",
   "metadata": {},
   "source": [
    "#### Function to read required data from txt file"
   ]
  },
  {
   "cell_type": "code",
   "execution_count": 49,
   "metadata": {},
   "outputs": [],
   "source": [
    "def read_file(filename):\n",
    "    with open(filename, 'r') as file:\n",
    "        content = file.read()  # Open the file in read mode\n",
    "\n",
    "    data = {}  # Initialize data as an empty dictionary\n",
    "\n",
    "    # Each file has number of inputs under which data is stored as a matrix\n",
    "    numerical_data = re.findall(r'\\[([\\d\\s.]+)\\]', content)  # Extract values following each header as numerical values and remove '\\t's and '\\n's\n",
    "\n",
    "    sections = ['Orders', 'Allocations', 'DistanceShelfShelf', 'DistancePackagingShelf', 'FullDistanceMatrixMetres']\n",
    "\n",
    "    for i, section in enumerate(sections):\n",
    "        data[section] = []\n",
    "        lines = numerical_data[i].strip().split('\\n')\n",
    "        for line in lines:\n",
    "            values = line.strip().split()  # Split using spaces\n",
    "            data[section].append([int(val) for val in values])  # Assuming all values are integers\n",
    "\n",
    "    return data"
   ]
  },
  {
   "cell_type": "markdown",
   "metadata": {},
   "source": [
    "#### Assigning the data we read to variables"
   ]
  },
  {
   "cell_type": "code",
   "execution_count": 50,
   "metadata": {},
   "outputs": [],
   "source": [
    "filename = r\"Xpress_Data_Files/Data_Xpress_FullDist_Metres.txt\"\n",
    "data = read_file(filename)\n",
    "\n",
    "Orders = data.get('Orders')\n",
    "Allocations = np.asarray(data.get('Allocations')[0])\n",
    "DistanceShelfShelf = np.asarray(data.get('DistanceShelfShelf'))\n",
    "FullDistanceMatrix = np.asarray(data.get('FullDistanceMatrixMetres'))\n",
    "\n",
    "NbShelves = 96\n",
    "Shelves = range(1, NbShelves + 1)\n",
    "\n",
    "FullDistanceMatrix = np.roll(FullDistanceMatrix, shift = 1, axis = 1)\n",
    "FullDistanceMatrix = np.roll(FullDistanceMatrix, shift = 1, axis = 0)"
   ]
  },
  {
   "cell_type": "markdown",
   "metadata": {},
   "source": [
    "# Functions"
   ]
  },
  {
   "cell_type": "code",
   "execution_count": 51,
   "metadata": {},
   "outputs": [],
   "source": [
    "def getMostCommonProducts(Orders):\n",
    "    '''\n",
    "    This function takes the order matrix and extracts a list of all \n",
    "    product groups, ordered by the number of occurrences in the matrix.\n",
    "\n",
    "    This lets us know which products are the most commonly ordered.\n",
    "    '''\n",
    "    flattenedList = [x for x in [item for sublist in Orders for item in sublist] if x != 0]\n",
    "\n",
    "    itemCounts = Counter(flattenedList)\n",
    "\n",
    "    sorted_items = sorted(itemCounts.items(), key=lambda x: x[1], reverse=True)\n",
    "    original_numbers = [item for item, _ in sorted_items]\n",
    "\n",
    "    return itemCounts, original_numbers\n",
    "\n",
    "\n",
    "def getClosestShelves(Distances):\n",
    "    ''' \n",
    "    This function takes the distance vector and extracts a list of \n",
    "    shelves, ordered by the ones that are closest to the door (shelf 0 in our case).\n",
    "\n",
    "    Returns a list of tuples containing the shelf index and its corresponding distance.\n",
    "    '''\n",
    "    distanceToDoor = Distances[0] # consider the distance vector for the door\n",
    "    indexed_numbers = list(enumerate(distanceToDoor)) # indices and distances from door\n",
    "\n",
    "    sorted_indexed_numbers = sorted(indexed_numbers, key=lambda x: x[1]) # sort indices by distance from door (ascending)\n",
    "    sorted_indexes = [tuple([index,dist])  for index, dist in sorted_indexed_numbers if index > 0]\n",
    "\n",
    "    return sorted_indexes # print index of shelf and its corresponding distance\n",
    "\n",
    "\n",
    "def ConstructionHeuristic_mostCommonOrder(Orders, Distances, fill_extra_shelves = True, nbAdditionalShelves=6):\n",
    "    '''\n",
    "    This function first finds the most common product groups, then \n",
    "    extracts the list of shelves closest to the door. \n",
    "\n",
    "    It uses these two lists in conjunction to assign the \n",
    "    most common products to the closest shelves.\n",
    "\n",
    "    If the 6 extra shelves are required to be filled, the function \n",
    "    will assign the most common product to the extra shelves.\n",
    "    '''\n",
    "\n",
    "    mostCommonProducts = getMostCommonProducts(Orders)[1] # get the most common products\n",
    "\n",
    "    # if statement to decide whether you want to fill extra shelves or not\n",
    "    # nbAdditionalShelves determines how many extra shelves you fill\n",
    "    if fill_extra_shelves == True:\n",
    "        mostCommonProducts = mostCommonProducts + mostCommonProducts[:nbAdditionalShelves] \n",
    "    elif fill_extra_shelves == False:\n",
    "        mostCommonProducts = mostCommonProducts\n",
    "\n",
    "    ClosestShelves, ClosestDistances = map(list, zip(*getClosestShelves(Distances)))\n",
    "\n",
    "    newShelves = [0]*96  # initialise empty shelf allocation vector\n",
    "\n",
    "    for i, prod in zip(ClosestShelves, mostCommonProducts):\n",
    "        newShelves[i-1] = prod  # assign products based on the closest shelves\n",
    "\n",
    "    return np.array(newShelves)\n",
    "\n",
    "\n",
    "def Random_Allocation_heuristic(fill_extra_shelves=True, nbAdditionalShelves=6, seed=123):\n",
    "    '''\n",
    "    Construction heuristic to assign products to shelves randomly.\n",
    "\n",
    "    Can provide additional arguments to randomly assign products to the extra shelves as well.\n",
    "    '''\n",
    "    np.random.seed(seed)\n",
    "    prods_on_shelves = np.zeros(96, dtype = int)\n",
    "    first_90_shelves = np.arange(1, 91) # assign the 90 products for the first time to the first 90 shelves\n",
    "    np.random.shuffle(first_90_shelves) # randomly shuffle the products among the 90 shelves\n",
    "    prods_on_shelves[:90] = first_90_shelves\n",
    "    if fill_extra_shelves: # if we wish to fill some of the remaining empty shelves\n",
    "        \n",
    "        # randomly select nbAdditionalShelves number of products from the list of products and assign these to the empty shelves\n",
    "        prods_on_shelves[90:90+nbAdditionalShelves] = np.random.choice(np.arange(1, 91), size = nbAdditionalShelves, replace=False)\n",
    "\n",
    "    return prods_on_shelves"
   ]
  },
  {
   "cell_type": "markdown",
   "metadata": {},
   "source": [
    "# Writing allocation vectors to txt files"
   ]
  },
  {
   "cell_type": "markdown",
   "metadata": {},
   "source": [
    "#### Function to take an allocation vector and write it to a txt file"
   ]
  },
  {
   "cell_type": "code",
   "execution_count": 52,
   "metadata": {},
   "outputs": [],
   "source": [
    "def allocation_to_txt(allocation_vector, file_path):\n",
    "    np.savetxt(file_path, allocation_vector, fmt = \"%d\", delimiter = \",\", newline=\" \")"
   ]
  },
  {
   "cell_type": "markdown",
   "metadata": {},
   "source": [
    "#### Writing current allocation to txt file"
   ]
  },
  {
   "cell_type": "code",
   "execution_count": 53,
   "metadata": {},
   "outputs": [],
   "source": [
    "mostCommonOrderAllocation = ConstructionHeuristic_mostCommonOrder(Orders, \n",
    "                                                                  FullDistanceMatrix, \n",
    "                                                                  fill_extra_shelves=False)\n",
    "allocation_to_txt(mostCommonOrderAllocation, \"Allocation_Vectors/CommonOrder_0_Extra.txt\")\n",
    "allocation_to_txt(Random_Allocation_heuristic(nbAdditionalShelves=0), \"Allocation_Vectors/Random_0_Extra.txt\")"
   ]
  },
  {
   "cell_type": "markdown",
   "metadata": {},
   "source": [
    "#### Writing allocation vectors with additional shelves filled to txt"
   ]
  },
  {
   "cell_type": "code",
   "execution_count": 54,
   "metadata": {},
   "outputs": [],
   "source": [
    "for i in range(6):\n",
    "    allocation_extra_shelves = ConstructionHeuristic_mostCommonOrder(Orders,\n",
    "                                                                     FullDistanceMatrix,\n",
    "                                                                     fill_extra_shelves=True,\n",
    "                                                                     nbAdditionalShelves=i+1)\n",
    "    allocation_to_txt(allocation_extra_shelves, f\"Allocation_Vectors/CommonOrder_{i+1}_Extra.txt\")\n",
    "    allocation_to_txt(Random_Allocation_heuristic(nbAdditionalShelves=i+1), f\"Allocation_Vectors/Random_{i+1}_Extra.txt\")"
   ]
  },
  {
   "cell_type": "markdown",
   "metadata": {},
   "source": [
    "#### Using our own distance matrices to construct allocation vectors and writing to txt "
   ]
  },
  {
   "cell_type": "code",
   "execution_count": 57,
   "metadata": {},
   "outputs": [],
   "source": [
    "for j in range(1,5):\n",
    "    distance_matrix = pd.read_excel(f\"Distance_Matrices/DistanceMatrix_{j}_aisles.xlsx\", \n",
    "                                    sheet_name = \"DistanceMatrixMetres\", \n",
    "                                    header=None, skiprows= 1)\n",
    "    allocation_0_extra = ConstructionHeuristic_mostCommonOrder(Orders, \n",
    "                                                                  distance_matrix, \n",
    "                                                                  fill_extra_shelves=False)\n",
    "    allocation_6_extra = ConstructionHeuristic_mostCommonOrder(Orders, \n",
    "                                                                  distance_matrix)\n",
    "    allocation_to_txt(allocation_0_extra, f\"Allocation_Vectors/CommonOrder_0extra_{j}mid_aisle.txt\")\n",
    "    allocation_to_txt(allocation_6_extra, f\"Allocation_Vectors/CommonOrder_6extra_{j}mid_aisle.txt\")"
   ]
  }
 ],
 "metadata": {
  "kernelspec": {
   "display_name": "Python 3",
   "language": "python",
   "name": "python3"
  },
  "language_info": {
   "codemirror_mode": {
    "name": "ipython",
    "version": 3
   },
   "file_extension": ".py",
   "mimetype": "text/x-python",
   "name": "python",
   "nbconvert_exporter": "python",
   "pygments_lexer": "ipython3",
   "version": "3.11.8"
  }
 },
 "nbformat": 4,
 "nbformat_minor": 2
}
