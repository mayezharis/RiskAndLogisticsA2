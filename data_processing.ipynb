{
 "cells": [
  {
   "cell_type": "code",
   "execution_count": 52,
   "metadata": {},
   "outputs": [],
   "source": [
    "import numpy as np\n",
    "import linecache as lc\n",
    "import pandas as pd"
   ]
  },
  {
   "cell_type": "markdown",
   "metadata": {},
   "source": [
    "# Obtaining the full distance matrix in squares (with door)"
   ]
  },
  {
   "cell_type": "code",
   "execution_count": 53,
   "metadata": {},
   "outputs": [],
   "source": [
    "# Read the Excel file starting from the specified row and column\n",
    "distance_mat_squares = pd.read_excel(\"assignment_files/DistanceMatrix.xlsx\", sheet_name = \"DistanceMatrix Squares\", header=None, skiprows= 3)\n",
    "distance_mat_squares = distance_mat_squares.loc[:, 1:]"
   ]
  },
  {
   "cell_type": "code",
   "execution_count": 54,
   "metadata": {},
   "outputs": [],
   "source": [
    "file_path = \"Xpress Data Files/Data_Xpress_FullDist_Squares.txt\"\n",
    "\n",
    "\n",
    "with open(\"assignment_files/Data_Xpress.txt\", \"r\") as file:\n",
    "        content = file.read()\n",
    "\n",
    "with open(file_path, \"w\") as file:\n",
    "    file.write(content)\n",
    "    file.write(\"\\n\\n\\n\")\n",
    "    file.write(\"FullDistanceMatrixSquares: [\\n\")\n",
    "    for index, row in distance_mat_squares.iterrows():\n",
    "        file.write(' '.join(map(str, row)) + '\\n')\n",
    "    file.write(\"]\")"
   ]
  },
  {
   "cell_type": "code",
   "execution_count": 55,
   "metadata": {},
   "outputs": [],
   "source": [
    "# Read the Excel file starting from the specified row and column\n",
    "distance_mat_metres = pd.read_excel(\"assignment_files/DistanceMatrix.xlsx\", sheet_name = \"DistanceMatrix Meters\", header=None, skiprows= 3)\n",
    "distance_mat_metres = distance_mat_metres.loc[:, 1:]"
   ]
  },
  {
   "cell_type": "code",
   "execution_count": 56,
   "metadata": {},
   "outputs": [],
   "source": [
    "file_path = \"Xpress Data Files/Data_Xpress_FullDist_Metres.txt\"\n",
    "\n",
    "\n",
    "with open(\"assignment_files/Data_Xpress.txt\", \"r\") as file:\n",
    "        content = file.read()\n",
    "\n",
    "with open(file_path, \"w\") as file:\n",
    "    file.write(content)\n",
    "    file.write(\"\\n\\n\\n\")\n",
    "    file.write(\"FullDistanceMatrixMetres: [\\n\")\n",
    "    for index, row in distance_mat_metres.iterrows():\n",
    "        file.write(' '.join(map(str, row)) + '\\n')\n",
    "    file.write(\"]\")"
   ]
  },
  {
   "cell_type": "code",
   "execution_count": 57,
   "metadata": {},
   "outputs": [],
   "source": [
    "def process_nD(file_path, line_start, line_stop, no_to_delete = None):\n",
    "    \n",
    "    '''\n",
    "    The function reads multiple lines and then process the text to get them \n",
    "    into the form of a long list of values, to be reshaped outside of the function.\n",
    "\n",
    "    The function's purpose is to simply clean the txt data into form suitable for python.\n",
    "    '''\n",
    "    \n",
    "    file = open(file_path, \"r\")\n",
    "    list_og = file.readlines()[line_start-1:line_stop]\n",
    "    list_og = list(map(lambda s: s.strip(), list_og))\n",
    "\n",
    "    list_og = [list_og[line].split(\" \") for line in range(len(list_og))]\n",
    "    processed_list = []\n",
    "    for line in list_og:\n",
    "        for i in range(len(line)):\n",
    "            processed_list.append(line[i].strip('[]'))\n",
    "    \n",
    "    if no_to_delete != None:\n",
    "        processed_list = processed_list[no_to_delete:]\n",
    "    else:\n",
    "        pass\n",
    "    return processed_list"
   ]
  },
  {
   "cell_type": "code",
   "execution_count": 58,
   "metadata": {},
   "outputs": [],
   "source": [
    "order_mat = np.asarray(process_nD(r\"assignment_files/Data_Xpress.txt\", 15, 2014)).reshape(2000, 5).astype(int)"
   ]
  },
  {
   "cell_type": "code",
   "execution_count": 59,
   "metadata": {},
   "outputs": [
    {
     "name": "stdout",
     "output_type": "stream",
     "text": [
      "1: 337\n",
      "2: 337\n",
      "3: 318\n",
      "4: 363\n",
      "5: 645\n"
     ]
    }
   ],
   "source": [
    "order_cardinalities = np.sum(order_mat != 0, axis=1)\n",
    "\n",
    "cardinality_counts = {}\n",
    "for card in order_cardinalities:\n",
    "    cardinality_counts[card] = cardinality_counts.get(card, 0) + 1\n",
    "\n",
    "cardinality_counts = {k: v for k, v in sorted(cardinality_counts.items(), key=lambda item: item[0])}\n",
    "cardinality_counts\n",
    "\n",
    "# Display the counts\n",
    "for card, count in cardinality_counts.items():\n",
    "    print(f\"{card}: {count}\")"
   ]
  }
 ],
 "metadata": {
  "kernelspec": {
   "display_name": "Python 3",
   "language": "python",
   "name": "python3"
  },
  "language_info": {
   "codemirror_mode": {
    "name": "ipython",
    "version": 3
   },
   "file_extension": ".py",
   "mimetype": "text/x-python",
   "name": "python",
   "nbconvert_exporter": "python",
   "pygments_lexer": "ipython3",
   "version": "3.11.8"
  }
 },
 "nbformat": 4,
 "nbformat_minor": 2
}
